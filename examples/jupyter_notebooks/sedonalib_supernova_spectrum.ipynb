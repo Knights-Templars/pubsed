{
 "cells": [
  {
   "cell_type": "markdown",
   "metadata": {},
   "source": [
    "\n",
    "# Using *sedonalib* to model a supernova spectrum \n",
    "\n",
    "In this example we will use the *sedonalib* python package to create, run, and view a model of a supernova spectrum\n",
    "\n",
    "To add python tools to your python path, for now you can set\n",
    "\n",
    "```export PYTHONPATH=$PYTHONPATH:$SEDONA_HOME/tools/sedonalib```\n",
    "\n",
    "where $SEDONA_HOME points to the base directory of your sedona installation"
   ]
  },
  {
   "cell_type": "markdown",
   "metadata": {},
   "source": [
    "## Creating an input model file using sedonalib  \n",
    "\n",
    "The first step is create a model file that describes the initial conditions (i.e., density, velocity, composition) of our supernova ejecta.\n",
    "\n",
    "*Sedonalib* has built in functions for easily creating a spherically symmetric model where the velocity is homologous (i.e., velocity = radius/time) as is often the case for supernovae.  We simply choose the mass and kinetic energy of the ejecta and the class sets the proper velocity structure and power-law density profile.\n"
   ]
  },
  {
   "cell_type": "code",
   "execution_count": null,
   "metadata": {
    "scrolled": true
   },
   "outputs": [],
   "source": [
    "import sedonalib as sed\n",
    "import matplotlib.pyplot as plt\n",
    "\n",
    "\n",
    "# model parameters\n",
    "mass = 1.99e33\n",
    "KE   = 1e51\n",
    "day  = 60.0*60.0*24.0   # seconds in a day\n",
    "\n",
    "# Define a new 1D spherical model with 100 zones\n",
    "mod = sed.new_model(\"1D_sphere\",dims=100)\n",
    "\n",
    "# Set a homologous broken-power law density structure \n",
    "# (other opttions are \"exponential\" or \"constant\")\n",
    "mod.set_homologous_profile(mass,KE,\"powerlaw\",time=day)\n",
    "\n",
    "# Set the initial temperature to be everywhere = 10^4 K\n",
    "# (the code will solve for the real T structure)\n",
    "mod.set_constant_temperature(10000.0)\n",
    "\n",
    "# set the composition to be a 50/50 mix \n",
    "# of 14Si and 56Ni everywhere\n",
    "mod.add_elements([\"14.28\",\"28.56\"])\n",
    "mod.set_constant_composition([0.5,0.5])\n",
    "\n",
    "# Write to a file\n",
    "mod.write(\"testmodel.mod\")\n",
    "print(mod)\n"
   ]
  },
  {
   "cell_type": "markdown",
   "metadata": {},
   "source": [
    "## Creating a parameter file with sedonalib\n",
    "\n",
    "We next  create a parameter file that describes all of the runtime parameters for our calculation. Sedona parameter files are relatively simple text files (using the lua scripting language) that can easily be constructed by hand, but *sedonalib* provides a handy python class for generating and modifying them.\n",
    "\n",
    "The *sedonalib* parameter file class comes with some templates that prefills the values of the runtime parameters with values appropriate for a certain kind of science run.  Here we will start with the template for a Type Ia supernova spectrum.\n",
    "\n",
    "If you do not want to use a template, you can just create an empty parameter class using\n",
    "\n",
    "```param = sed.new_paramfile()```\n",
    "\n",
    "and then change the values of runtime parameters as shown in the box below\n"
   ]
  },
  {
   "cell_type": "code",
   "execution_count": null,
   "metadata": {},
   "outputs": [],
   "source": [
    "# print out the available templates\n",
    "sed.print_parameter_templates()\n",
    "\n",
    "# create a parm object based on the typeIa supernova spectrum one \n",
    "param = sed.new_paramfile('supernova/1D_typeIa_supernova_spectrum')\n",
    "\n",
    "# print out the parameter file values\n",
    "print (param)"
   ]
  },
  {
   "cell_type": "markdown",
   "metadata": {},
   "source": [
    "We now can change some of the parameters in our param file to chose the type of run we want.\n",
    "\n",
    "Here we will change the name of the model file to the name of the model we created above, the time since explosion that the spectrum is to be run at, and the number of photon packets to use.\n",
    "\n",
    "We then write out the parameter file to a file named \"myparams.lua\""
   ]
  },
  {
   "cell_type": "code",
   "execution_count": null,
   "metadata": {},
   "outputs": [],
   "source": [
    "days = 3600.0*24.0\n",
    "\n",
    "param[\"model_file\"]                   = \"testmodel.mod\"\n",
    "param[\"tstep_time_start\"]             = 25*days\n",
    "param[\"particles_n_emit_radioactive\"] = 1e4\n",
    "\n",
    "# write the parameter file to disk with a file name \"myparams.lua\"\n",
    "param.write(\"myparams.lua\")"
   ]
  },
  {
   "cell_type": "markdown",
   "metadata": {},
   "source": [
    "## Run the code\n",
    "\n",
    "We copy over the executable *sedona6.ex* from the Sedona src/ directory and run it passing the myparams.lua parameter file we created above.  \n",
    "\n",
    "This assumes that the code has been compiled (such that *sedona6.ex* is in the src/ directory) and that you have set the $SEDONA_HOME environment variable."
   ]
  },
  {
   "cell_type": "code",
   "execution_count": null,
   "metadata": {},
   "outputs": [],
   "source": [
    "# copy over the executable in the src/directory\n",
    "import os\n",
    "executable = os.getenv('SEDONA_HOME') + '/src/sedona6.ex'\n",
    "os.system(\"cp \" + executable + \" ./\")\n",
    "\n",
    "# run the code\n",
    "!./sedona6.ex myparams.lua\n",
    "\n",
    "# to run on multiple processors with mpi you would use instead\n",
    "# mpirun -np 2 ./sedona6.ex myparams.lua \n",
    "# where -np sets the number of ranks to run with "
   ]
  },
  {
   "cell_type": "markdown",
   "metadata": {},
   "source": [
    "## Read and plot up results\n",
    "\n",
    "If the code executed properly it should have made 4 spectrum files, one for each iteration. Hopefully by the last (4th iteration) the temperature structure of the model has converged. \n",
    "\n",
    "We can take a look at the output of the last iteration by using *sedonalib* to read the \"spectrum_4.h5\" file into a spectrum class and then asking for the wavelength and luminosity arrays.\n",
    "\n",
    "Sedona calculates a specific luminosity, $L_\\lambda$, (units ergs/sec/angstrom) of the model. To convert to the flux detected on earth, you would divide $L_\\lambda$ by $4 \\pi D^2$ where D is the distance of the supernova from earth."
   ]
  },
  {
   "cell_type": "code",
   "execution_count": null,
   "metadata": {},
   "outputs": [],
   "source": [
    "import matplotlib.pyplot as plt\n",
    "\n",
    "spec = sed.read(\"spectrum_4.h5\",spec_units='angstroms')\n",
    "lam,L_lam = spec.get_spectrum()\n",
    "\n",
    "\n",
    "plt.plot(lam,L_lam)\n",
    "plt.xlabel(\"wavelength (angstroms)\")\n",
    "plt.ylabel(\"specific luminosity (ergs/s/angstrom)\")\n",
    "\n",
    "plt.show()"
   ]
  },
  {
   "cell_type": "code",
   "execution_count": null,
   "metadata": {},
   "outputs": [],
   "source": []
  }
 ],
 "metadata": {
  "kernelspec": {
   "display_name": "Python 3",
   "language": "python",
   "name": "python3"
  },
  "language_info": {
   "codemirror_mode": {
    "name": "ipython",
    "version": 3
   },
   "file_extension": ".py",
   "mimetype": "text/x-python",
   "name": "python",
   "nbconvert_exporter": "python",
   "pygments_lexer": "ipython3",
   "version": "3.7.6"
  }
 },
 "nbformat": 4,
 "nbformat_minor": 2
}
